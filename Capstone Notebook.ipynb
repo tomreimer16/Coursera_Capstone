{
    "cells": [
        {
            "metadata": {
                "collapsed": true
            },
            "cell_type": "markdown",
            "source": [
                "# Coursera Data Science Capstone project\n",
                "This notebook will mainly be used for the capstone project work"
            ]
        },
        {
            "metadata": {},
            "cell_type": "code",
            "source": [
                "import pandas as pd\n",
                "import numpy as np"
            ],
            "execution_count": 1,
            "outputs": []
        },
        {
            "metadata": {
                "tags": []
            },
            "cell_type": "code",
            "source": [
                "print(\"Hello Capstone Project Course!\")"
            ],
            "execution_count": 2,
            "outputs": [
                {
                    "output_type": "stream",
                    "name": "stdout",
                    "text": "Hello Capstone Project Course!\n"
                }
            ]
        },
        {
            "metadata": {
                "tags": []
            },
            "cell_type": "code",
            "source": [
                "print(\"testing whether the Github and IBM data studio sync works with my Visual Studio Code\")"
            ],
            "execution_count": 3,
            "outputs": [
                {
                    "output_type": "stream",
                    "name": "stdout",
                    "text": "testing whether the Github and IBM data studio sync works with my Visual Studio Code\n"
                }
            ]
        },
        {
            "cell_type": "code",
            "execution_count": null,
            "metadata": {},
            "outputs": [],
            "source": []
        }
    ],
    "metadata": {
        "kernelspec": {
            "name": "python_defaultSpec_1596481236305",
            "display_name": "Python 3.8.2 64-bit ('3.8.2': pyenv)",
            "language": "python"
        },
        "language_info": {
            "name": "python",
            "version": "3.6.9",
            "mimetype": "text/x-python",
            "codemirror_mode": {
                "name": "ipython",
                "version": 3
            },
            "pygments_lexer": "ipython3",
            "nbconvert_exporter": "python",
            "file_extension": ".py"
        }
    },
    "nbformat": 4,
    "nbformat_minor": 1
}