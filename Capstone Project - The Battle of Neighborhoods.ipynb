{
    "cells": [
        {
            "metadata": {
                "collapsed": true
            },
            "cell_type": "markdown",
            "source": "# Final Report Details\n\nCome up with an idea to leverage the Foursquare location data to explore or compare neighborhoods or cities - e.g.:\n\n* compare the neighborhoods of the two cities and determine how similar or dissimilar they are. Is New York City more like Toronto or Paris or some other multicultural city? I will leave it to you to refine this idea.\n\n* In a city of your choice, if someone is looking to open a restaurant, where would you recommend that they open it? Similarly, if a contractor is trying to start their own business, where would you recommend that they setup their office?\n\n\n## Review criteria\n\nWeek 1 - submit the following:\n\n* A description of the problem and a discussion of the background. (15 marks)\n\n* A description of the data and how it will be used to solve the problem. (15 marks)\n\nWeek 2 - final deliverables of the project will be:\n\n* A link to your Notebook on your Github repository, showing your code. (15 marks)\n\n* A full report consisting of all of the following components (15 marks):\n    * Introduction where you discuss the business problem and who would be interested in this project.\n    * Data where you describe the data that will be used to solve the problem and the source of the data.\n    * Methodology section which represents the main component of the report where you discuss and describe any exploratory data analysis that you did, any inferential statistical testing that you performed, if any, and what machine learnings were used and why.\n    * Results section where you discuss the results.\n    * Discussion section where you discuss any observations you noted and any recommendations you can make based on the results.\n    * Conclusion section where you conclude the report.\n \n* Your choice of a presentation or blogpost. (10 marks)"
        },
        {
            "metadata": {},
            "cell_type": "markdown",
            "source": "# The Business Problem\n\nSomeone is looking to open a restaurant in London, and this report will explore potential locations for them. \n\nKey considerations will be as follows:\n\n* the \"recipe for success\" - what drives performance for the best performing restaurants?\n* footfall\n* complementary venues in the surroundings\n* competing venues in the surroundings\n\n# The Data-driven Solution\n\nIn order to inform the investigation, and provide reccomendations, we will look to leverage a range of datasets:\n\n* Foursquare location data (for venue information)\n* TfL (Transport for London) open source datasets (for travel information)\n\nIn order to understand these datasets, we will use some or all of the following techniques:\n\n* Correlation and regression analysis, to understand performance drivers\n* Clustering and classification analyses, to categorise locations\n"
        },
        {
            "metadata": {},
            "cell_type": "code",
            "source": "",
            "execution_count": null,
            "outputs": []
        }
    ],
    "metadata": {
        "kernelspec": {
            "name": "python3",
            "display_name": "Python 3.6",
            "language": "python"
        },
        "language_info": {
            "name": "python",
            "version": "3.6.9",
            "mimetype": "text/x-python",
            "codemirror_mode": {
                "name": "ipython",
                "version": 3
            },
            "pygments_lexer": "ipython3",
            "nbconvert_exporter": "python",
            "file_extension": ".py"
        }
    },
    "nbformat": 4,
    "nbformat_minor": 1
}